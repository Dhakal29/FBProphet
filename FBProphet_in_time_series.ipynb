{
  "nbformat": 4,
  "nbformat_minor": 0,
  "metadata": {
    "colab": {
      "name": "FBProphet_in_time-series.ipynb",
      "provenance": []
    },
    "kernelspec": {
      "name": "python3",
      "display_name": "Python 3"
    },
    "widgets": {
      "application/vnd.jupyter.widget-state+json": {
        "19327225f1674bb38c62db85c7066aba": {
          "model_module": "@jupyter-widgets/controls",
          "model_name": "HBoxModel",
          "state": {
            "_view_name": "HBoxView",
            "_dom_classes": [],
            "_model_name": "HBoxModel",
            "_view_module": "@jupyter-widgets/controls",
            "_model_module_version": "1.5.0",
            "_view_count": null,
            "_view_module_version": "1.5.0",
            "box_style": "",
            "layout": "IPY_MODEL_9d248b6fab444eaa814ae194eb8da799",
            "_model_module": "@jupyter-widgets/controls",
            "children": [
              "IPY_MODEL_4b0e701b761642cb8386cd559951facc",
              "IPY_MODEL_5cc78a89f4aa4ffb91df4a3ab7f8bcb8"
            ]
          }
        },
        "9d248b6fab444eaa814ae194eb8da799": {
          "model_module": "@jupyter-widgets/base",
          "model_name": "LayoutModel",
          "state": {
            "_view_name": "LayoutView",
            "grid_template_rows": null,
            "right": null,
            "justify_content": null,
            "_view_module": "@jupyter-widgets/base",
            "overflow": null,
            "_model_module_version": "1.2.0",
            "_view_count": null,
            "flex_flow": null,
            "width": null,
            "min_width": null,
            "border": null,
            "align_items": null,
            "bottom": null,
            "_model_module": "@jupyter-widgets/base",
            "top": null,
            "grid_column": null,
            "overflow_y": null,
            "overflow_x": null,
            "grid_auto_flow": null,
            "grid_area": null,
            "grid_template_columns": null,
            "flex": null,
            "_model_name": "LayoutModel",
            "justify_items": null,
            "grid_row": null,
            "max_height": null,
            "align_content": null,
            "visibility": null,
            "align_self": null,
            "height": null,
            "min_height": null,
            "padding": null,
            "grid_auto_rows": null,
            "grid_gap": null,
            "max_width": null,
            "order": null,
            "_view_module_version": "1.2.0",
            "grid_template_areas": null,
            "object_position": null,
            "object_fit": null,
            "grid_auto_columns": null,
            "margin": null,
            "display": null,
            "left": null
          }
        },
        "4b0e701b761642cb8386cd559951facc": {
          "model_module": "@jupyter-widgets/controls",
          "model_name": "FloatProgressModel",
          "state": {
            "_view_name": "ProgressView",
            "style": "IPY_MODEL_0811fa64e73a47c6b86feeefed35f164",
            "_dom_classes": [],
            "description": "100%",
            "_model_name": "FloatProgressModel",
            "bar_style": "success",
            "max": 4,
            "_view_module": "@jupyter-widgets/controls",
            "_model_module_version": "1.5.0",
            "value": 4,
            "_view_count": null,
            "_view_module_version": "1.5.0",
            "orientation": "horizontal",
            "min": 0,
            "description_tooltip": null,
            "_model_module": "@jupyter-widgets/controls",
            "layout": "IPY_MODEL_6eb9adda20ab4e79b8d6e4c15d1907d4"
          }
        },
        "5cc78a89f4aa4ffb91df4a3ab7f8bcb8": {
          "model_module": "@jupyter-widgets/controls",
          "model_name": "HTMLModel",
          "state": {
            "_view_name": "HTMLView",
            "style": "IPY_MODEL_2532120569704e8487576d1979399bb0",
            "_dom_classes": [],
            "description": "",
            "_model_name": "HTMLModel",
            "placeholder": "​",
            "_view_module": "@jupyter-widgets/controls",
            "_model_module_version": "1.5.0",
            "value": " 4/4 [2:18:44&lt;00:00, 2081.02s/it]",
            "_view_count": null,
            "_view_module_version": "1.5.0",
            "description_tooltip": null,
            "_model_module": "@jupyter-widgets/controls",
            "layout": "IPY_MODEL_64a65ced964f4329bc0b1e3228454eb9"
          }
        },
        "0811fa64e73a47c6b86feeefed35f164": {
          "model_module": "@jupyter-widgets/controls",
          "model_name": "ProgressStyleModel",
          "state": {
            "_view_name": "StyleView",
            "_model_name": "ProgressStyleModel",
            "description_width": "initial",
            "_view_module": "@jupyter-widgets/base",
            "_model_module_version": "1.5.0",
            "_view_count": null,
            "_view_module_version": "1.2.0",
            "bar_color": null,
            "_model_module": "@jupyter-widgets/controls"
          }
        },
        "6eb9adda20ab4e79b8d6e4c15d1907d4": {
          "model_module": "@jupyter-widgets/base",
          "model_name": "LayoutModel",
          "state": {
            "_view_name": "LayoutView",
            "grid_template_rows": null,
            "right": null,
            "justify_content": null,
            "_view_module": "@jupyter-widgets/base",
            "overflow": null,
            "_model_module_version": "1.2.0",
            "_view_count": null,
            "flex_flow": null,
            "width": null,
            "min_width": null,
            "border": null,
            "align_items": null,
            "bottom": null,
            "_model_module": "@jupyter-widgets/base",
            "top": null,
            "grid_column": null,
            "overflow_y": null,
            "overflow_x": null,
            "grid_auto_flow": null,
            "grid_area": null,
            "grid_template_columns": null,
            "flex": null,
            "_model_name": "LayoutModel",
            "justify_items": null,
            "grid_row": null,
            "max_height": null,
            "align_content": null,
            "visibility": null,
            "align_self": null,
            "height": null,
            "min_height": null,
            "padding": null,
            "grid_auto_rows": null,
            "grid_gap": null,
            "max_width": null,
            "order": null,
            "_view_module_version": "1.2.0",
            "grid_template_areas": null,
            "object_position": null,
            "object_fit": null,
            "grid_auto_columns": null,
            "margin": null,
            "display": null,
            "left": null
          }
        },
        "2532120569704e8487576d1979399bb0": {
          "model_module": "@jupyter-widgets/controls",
          "model_name": "DescriptionStyleModel",
          "state": {
            "_view_name": "StyleView",
            "_model_name": "DescriptionStyleModel",
            "description_width": "",
            "_view_module": "@jupyter-widgets/base",
            "_model_module_version": "1.5.0",
            "_view_count": null,
            "_view_module_version": "1.2.0",
            "_model_module": "@jupyter-widgets/controls"
          }
        },
        "64a65ced964f4329bc0b1e3228454eb9": {
          "model_module": "@jupyter-widgets/base",
          "model_name": "LayoutModel",
          "state": {
            "_view_name": "LayoutView",
            "grid_template_rows": null,
            "right": null,
            "justify_content": null,
            "_view_module": "@jupyter-widgets/base",
            "overflow": null,
            "_model_module_version": "1.2.0",
            "_view_count": null,
            "flex_flow": null,
            "width": null,
            "min_width": null,
            "border": null,
            "align_items": null,
            "bottom": null,
            "_model_module": "@jupyter-widgets/base",
            "top": null,
            "grid_column": null,
            "overflow_y": null,
            "overflow_x": null,
            "grid_auto_flow": null,
            "grid_area": null,
            "grid_template_columns": null,
            "flex": null,
            "_model_name": "LayoutModel",
            "justify_items": null,
            "grid_row": null,
            "max_height": null,
            "align_content": null,
            "visibility": null,
            "align_self": null,
            "height": null,
            "min_height": null,
            "padding": null,
            "grid_auto_rows": null,
            "grid_gap": null,
            "max_width": null,
            "order": null,
            "_view_module_version": "1.2.0",
            "grid_template_areas": null,
            "object_position": null,
            "object_fit": null,
            "grid_auto_columns": null,
            "margin": null,
            "display": null,
            "left": null
          }
        }
      }
    }
  },
  "cells": [
    {
      "cell_type": "code",
      "metadata": {
        "id": "3KN4OWxCTOin"
      },
      "source": [
        "import pandas as pd\n",
        "from fbprophet import Prophet"
      ],
      "execution_count": null,
      "outputs": []
    },
    {
      "cell_type": "code",
      "metadata": {
        "colab": {
          "base_uri": "https://localhost:8080/",
          "height": 224
        },
        "id": "2PYgichyTzPk",
        "outputId": "262f476d-61f9-44ad-ce3b-3b6731711163"
      },
      "source": [
        "df = pd.read_csv('/content/nric.csv')\n",
        "df.head()"
      ],
      "execution_count": null,
      "outputs": [
        {
          "output_type": "execute_result",
          "data": {
            "text/html": [
              "<div>\n",
              "<style scoped>\n",
              "    .dataframe tbody tr th:only-of-type {\n",
              "        vertical-align: middle;\n",
              "    }\n",
              "\n",
              "    .dataframe tbody tr th {\n",
              "        vertical-align: top;\n",
              "    }\n",
              "\n",
              "    .dataframe thead th {\n",
              "        text-align: right;\n",
              "    }\n",
              "</style>\n",
              "<table border=\"1\" class=\"dataframe\">\n",
              "  <thead>\n",
              "    <tr style=\"text-align: right;\">\n",
              "      <th></th>\n",
              "      <th>Date</th>\n",
              "      <th>No of Transactions</th>\n",
              "      <th>Max Price</th>\n",
              "      <th>Min Price</th>\n",
              "      <th>Closing Price</th>\n",
              "      <th>Traded Shares</th>\n",
              "      <th>Total Amount</th>\n",
              "      <th>Prev. Closing</th>\n",
              "      <th>Difference Rs.</th>\n",
              "      <th>% Change</th>\n",
              "    </tr>\n",
              "  </thead>\n",
              "  <tbody>\n",
              "    <tr>\n",
              "      <th>0</th>\n",
              "      <td>2020-11-26</td>\n",
              "      <td>4130</td>\n",
              "      <td>1387</td>\n",
              "      <td>1275</td>\n",
              "      <td>1339</td>\n",
              "      <td>429237</td>\n",
              "      <td>581317178</td>\n",
              "      <td>1274</td>\n",
              "      <td>65</td>\n",
              "      <td>5.10</td>\n",
              "    </tr>\n",
              "    <tr>\n",
              "      <th>1</th>\n",
              "      <td>2020-11-25</td>\n",
              "      <td>2808</td>\n",
              "      <td>1274</td>\n",
              "      <td>1150</td>\n",
              "      <td>1274</td>\n",
              "      <td>297132</td>\n",
              "      <td>367384274</td>\n",
              "      <td>1159</td>\n",
              "      <td>115</td>\n",
              "      <td>9.92</td>\n",
              "    </tr>\n",
              "    <tr>\n",
              "      <th>2</th>\n",
              "      <td>2020-11-24</td>\n",
              "      <td>2088</td>\n",
              "      <td>1165</td>\n",
              "      <td>1120</td>\n",
              "      <td>1159</td>\n",
              "      <td>224480</td>\n",
              "      <td>258203579</td>\n",
              "      <td>1127</td>\n",
              "      <td>32</td>\n",
              "      <td>2.84</td>\n",
              "    </tr>\n",
              "    <tr>\n",
              "      <th>3</th>\n",
              "      <td>2020-11-23</td>\n",
              "      <td>2274</td>\n",
              "      <td>1152</td>\n",
              "      <td>1123</td>\n",
              "      <td>1127</td>\n",
              "      <td>258335</td>\n",
              "      <td>293033741</td>\n",
              "      <td>1138</td>\n",
              "      <td>-11</td>\n",
              "      <td>-0.97</td>\n",
              "    </tr>\n",
              "    <tr>\n",
              "      <th>4</th>\n",
              "      <td>2020-11-22</td>\n",
              "      <td>3823</td>\n",
              "      <td>1201</td>\n",
              "      <td>1108</td>\n",
              "      <td>1138</td>\n",
              "      <td>504782</td>\n",
              "      <td>580058318</td>\n",
              "      <td>1110</td>\n",
              "      <td>28</td>\n",
              "      <td>2.52</td>\n",
              "    </tr>\n",
              "  </tbody>\n",
              "</table>\n",
              "</div>"
            ],
            "text/plain": [
              "         Date  No of Transactions  ...  Difference Rs.  % Change\n",
              "0  2020-11-26                4130  ...              65      5.10\n",
              "1  2020-11-25                2808  ...             115      9.92\n",
              "2  2020-11-24                2088  ...              32      2.84\n",
              "3  2020-11-23                2274  ...             -11     -0.97\n",
              "4  2020-11-22                3823  ...              28      2.52\n",
              "\n",
              "[5 rows x 10 columns]"
            ]
          },
          "metadata": {
            "tags": []
          },
          "execution_count": 30
        }
      ]
    },
    {
      "cell_type": "code",
      "metadata": {
        "colab": {
          "base_uri": "https://localhost:8080/"
        },
        "id": "TM3rJtJ7T9GH",
        "outputId": "8d888362-35f2-44ab-93bf-4334839ffc9c"
      },
      "source": [
        "import fbprophet\n",
        "print('Prophet %s' % fbprophet.__version__)"
      ],
      "execution_count": null,
      "outputs": [
        {
          "output_type": "stream",
          "text": [
            "Prophet 0.7.1\n"
          ],
          "name": "stdout"
        }
      ]
    },
    {
      "cell_type": "code",
      "metadata": {
        "colab": {
          "base_uri": "https://localhost:8080/",
          "height": 276
        },
        "id": "ApA1eComWVzL",
        "outputId": "c9d185a3-9a75-411c-ec45-fcbdbf245e20"
      },
      "source": [
        "import matplotlib.pyplot as plt\n",
        "df.plot()\n",
        "plt.show()"
      ],
      "execution_count": null,
      "outputs": [
        {
          "output_type": "display_data",
          "data": {
            "image/png": "[encoded data removed]",
            "text/plain": [
              "<Figure size 432x288 with 1 Axes>"
            ]
          },
          "metadata": {
            "tags": [],
            "needs_background": "light"
          }
        }
      ]
    },
    {
      "cell_type": "code",
      "metadata": {
        "colab": {
          "base_uri": "https://localhost:8080/"
        },
        "id": "-tkb9nngWw1I",
        "outputId": "85231890-cfc8-45c4-ba01-b9a8910b932f"
      },
      "source": [
        "df.columns"
      ],
      "execution_count": null,
      "outputs": [
        {
          "output_type": "execute_result",
          "data": {
            "text/plain": [
              "Index(['Date', 'No of Transactions', 'Max Price', 'Min Price', 'Closing Price',\n",
              "       'Traded Shares', 'Total Amount', 'Prev. Closing', 'Difference Rs.',\n",
              "       '% Change'],\n",
              "      dtype='object')"
            ]
          },
          "metadata": {
            "tags": []
          },
          "execution_count": 33
        }
      ]
    },
    {
      "cell_type": "code",
      "metadata": {
        "colab": {
          "base_uri": "https://localhost:8080/",
          "height": 463
        },
        "id": "or9cNJPDXn-J",
        "outputId": "e1a31a29-e51e-4f34-d671-9524317cf3ad"
      },
      "source": [
        "df[\"Date\"] = pd.to_datetime(df.Date, format=\"%Y-%m-%d\")\n",
        "df.index=df['Date']\n",
        "plt.figure(figsize=(16,8))\n",
        "plt.plot(df['Closing Price'],label='Close Price History')"
      ],
      "execution_count": null,
      "outputs": [
        {
          "output_type": "execute_result",
          "data": {
            "text/plain": [
              "[<matplotlib.lines.Line2D at 0x7f303beb2be0>]"
            ]
          },
          "metadata": {
            "tags": []
          },
          "execution_count": 34
        },
        {
          "output_type": "display_data",
          "data": {
            "image/png": "[encoded data removed]",
            "text/plain": [
              "<Figure size 1152x576 with 1 Axes>"
            ]
          },
          "metadata": {
            "tags": [],
            "needs_background": "light"
          }
        }
      ]
    },
    {
      "cell_type": "code",
      "metadata": {
        "id": "Tjicuf75YkSw"
      },
      "source": [
        "data_to_use = df.filter(['Date','Closing Price'])"
      ],
      "execution_count": null,
      "outputs": []
    },
    {
      "cell_type": "code",
      "metadata": {
        "colab": {
          "base_uri": "https://localhost:8080/",
          "height": 455
        },
        "id": "Qa0ClbV6fD5I",
        "outputId": "d5719d36-12c3-4d16-c401-c54ff563ed6a"
      },
      "source": [
        "data_to_use"
      ],
      "execution_count": null,
      "outputs": [
        {
          "output_type": "execute_result",
          "data": {
            "text/html": [
              "<div>\n",
              "<style scoped>\n",
              "    .dataframe tbody tr th:only-of-type {\n",
              "        vertical-align: middle;\n",
              "    }\n",
              "\n",
              "    .dataframe tbody tr th {\n",
              "        vertical-align: top;\n",
              "    }\n",
              "\n",
              "    .dataframe thead th {\n",
              "        text-align: right;\n",
              "    }\n",
              "</style>\n",
              "<table border=\"1\" class=\"dataframe\">\n",
              "  <thead>\n",
              "    <tr style=\"text-align: right;\">\n",
              "      <th></th>\n",
              "      <th>ds</th>\n",
              "      <th>y</th>\n",
              "    </tr>\n",
              "    <tr>\n",
              "      <th>Date</th>\n",
              "      <th></th>\n",
              "      <th></th>\n",
              "    </tr>\n",
              "  </thead>\n",
              "  <tbody>\n",
              "    <tr>\n",
              "      <th>2020-06-29</th>\n",
              "      <td>2020-06-29</td>\n",
              "      <td>382</td>\n",
              "    </tr>\n",
              "    <tr>\n",
              "      <th>2020-06-30</th>\n",
              "      <td>2020-06-30</td>\n",
              "      <td>344</td>\n",
              "    </tr>\n",
              "    <tr>\n",
              "      <th>2020-07-01</th>\n",
              "      <td>2020-07-01</td>\n",
              "      <td>378</td>\n",
              "    </tr>\n",
              "    <tr>\n",
              "      <th>2020-07-02</th>\n",
              "      <td>2020-07-02</td>\n",
              "      <td>383</td>\n",
              "    </tr>\n",
              "    <tr>\n",
              "      <th>2020-07-05</th>\n",
              "      <td>2020-07-05</td>\n",
              "      <td>400</td>\n",
              "    </tr>\n",
              "    <tr>\n",
              "      <th>...</th>\n",
              "      <td>...</td>\n",
              "      <td>...</td>\n",
              "    </tr>\n",
              "    <tr>\n",
              "      <th>2020-11-22</th>\n",
              "      <td>2020-11-22</td>\n",
              "      <td>1138</td>\n",
              "    </tr>\n",
              "    <tr>\n",
              "      <th>2020-11-23</th>\n",
              "      <td>2020-11-23</td>\n",
              "      <td>1127</td>\n",
              "    </tr>\n",
              "    <tr>\n",
              "      <th>2020-11-24</th>\n",
              "      <td>2020-11-24</td>\n",
              "      <td>1159</td>\n",
              "    </tr>\n",
              "    <tr>\n",
              "      <th>2020-11-25</th>\n",
              "      <td>2020-11-25</td>\n",
              "      <td>1274</td>\n",
              "    </tr>\n",
              "    <tr>\n",
              "      <th>2020-11-26</th>\n",
              "      <td>2020-11-26</td>\n",
              "      <td>1339</td>\n",
              "    </tr>\n",
              "  </tbody>\n",
              "</table>\n",
              "<p>97 rows × 2 columns</p>\n",
              "</div>"
            ],
            "text/plain": [
              "                   ds     y\n",
              "Date                       \n",
              "2020-06-29 2020-06-29   382\n",
              "2020-06-30 2020-06-30   344\n",
              "2020-07-01 2020-07-01   378\n",
              "2020-07-02 2020-07-02   383\n",
              "2020-07-05 2020-07-05   400\n",
              "...               ...   ...\n",
              "2020-11-22 2020-11-22  1138\n",
              "2020-11-23 2020-11-23  1127\n",
              "2020-11-24 2020-11-24  1159\n",
              "2020-11-25 2020-11-25  1274\n",
              "2020-11-26 2020-11-26  1339\n",
              "\n",
              "[97 rows x 2 columns]"
            ]
          },
          "metadata": {
            "tags": []
          },
          "execution_count": 35
        }
      ]
    },
    {
      "cell_type": "code",
      "metadata": {
        "id": "VX58mDk7fGf_"
      },
      "source": [
        "# prepare expected column names prophet needs to use ds as date and y as op\n",
        "data_to_use.columns = ['ds','y']\n"
      ],
      "execution_count": null,
      "outputs": []
    },
    {
      "cell_type": "code",
      "metadata": {
        "id": "LvK2MfM_fdUH"
      },
      "source": [
        "#changing to date time\n",
        "data_to_use['ds'] = pd.to_datetime(data_to_use['ds'])"
      ],
      "execution_count": null,
      "outputs": []
    },
    {
      "cell_type": "code",
      "metadata": {
        "colab": {
          "base_uri": "https://localhost:8080/"
        },
        "id": "bZKmi6BtgJ5L",
        "outputId": "db3e711e-5566-4cd4-9a28-0b3df6e30683"
      },
      "source": [
        "data_to_use.columns"
      ],
      "execution_count": null,
      "outputs": [
        {
          "output_type": "execute_result",
          "data": {
            "text/plain": [
              "Index(['ds', 'y'], dtype='object')"
            ]
          },
          "metadata": {
            "tags": []
          },
          "execution_count": 38
        }
      ]
    },
    {
      "cell_type": "code",
      "metadata": {
        "colab": {
          "base_uri": "https://localhost:8080/"
        },
        "id": "SdWWjHiyf3Go",
        "outputId": "bcf037d0-5cff-45fc-fbc9-e51c04b7119b"
      },
      "source": [
        "dir(Prophet)"
      ],
      "execution_count": null,
      "outputs": [
        {
          "output_type": "execute_result",
          "data": {
            "text/plain": [
              "['__class__',\n",
              " '__delattr__',\n",
              " '__dict__',\n",
              " '__dir__',\n",
              " '__doc__',\n",
              " '__eq__',\n",
              " '__format__',\n",
              " '__ge__',\n",
              " '__getattribute__',\n",
              " '__gt__',\n",
              " '__hash__',\n",
              " '__init__',\n",
              " '__init_subclass__',\n",
              " '__le__',\n",
              " '__lt__',\n",
              " '__module__',\n",
              " '__ne__',\n",
              " '__new__',\n",
              " '__reduce__',\n",
              " '__reduce_ex__',\n",
              " '__repr__',\n",
              " '__setattr__',\n",
              " '__sizeof__',\n",
              " '__str__',\n",
              " '__subclasshook__',\n",
              " '__weakref__',\n",
              " '_load_stan_backend',\n",
              " 'add_country_holidays',\n",
              " 'add_group_component',\n",
              " 'add_regressor',\n",
              " 'add_seasonality',\n",
              " 'construct_holiday_dataframe',\n",
              " 'fit',\n",
              " 'flat_growth_init',\n",
              " 'flat_trend',\n",
              " 'fourier_series',\n",
              " 'initialize_scales',\n",
              " 'linear_growth_init',\n",
              " 'logistic_growth_init',\n",
              " 'make_all_seasonality_features',\n",
              " 'make_future_dataframe',\n",
              " 'make_holiday_features',\n",
              " 'make_seasonality_features',\n",
              " 'parse_seasonality_args',\n",
              " 'percentile',\n",
              " 'piecewise_linear',\n",
              " 'piecewise_logistic',\n",
              " 'plot',\n",
              " 'plot_components',\n",
              " 'predict',\n",
              " 'predict_seasonal_components',\n",
              " 'predict_trend',\n",
              " 'predict_uncertainty',\n",
              " 'predictive_samples',\n",
              " 'regressor_column_matrix',\n",
              " 'sample_model',\n",
              " 'sample_posterior_predictive',\n",
              " 'sample_predictive_trend',\n",
              " 'set_auto_seasonalities',\n",
              " 'set_changepoints',\n",
              " 'setup_dataframe',\n",
              " 'validate_column_name',\n",
              " 'validate_inputs']"
            ]
          },
          "metadata": {
            "tags": []
          },
          "execution_count": 39
        }
      ]
    },
    {
      "cell_type": "code",
      "metadata": {
        "id": "1OZOED0WgfUl"
      },
      "source": [
        "model = Prophet()"
      ],
      "execution_count": null,
      "outputs": []
    },
    {
      "cell_type": "code",
      "metadata": {
        "colab": {
          "base_uri": "https://localhost:8080/"
        },
        "id": "12wdPrc1gzgO",
        "outputId": "da9ec6a1-3392-4a81-ab20-887622f7aebc"
      },
      "source": [
        "model.fit(data_to_use)"
      ],
      "execution_count": null,
      "outputs": [
        {
          "output_type": "stream",
          "text": [
            "INFO:fbprophet:Disabling yearly seasonality. Run prophet with yearly_seasonality=True to override this.\n",
            "INFO:fbprophet:Disabling daily seasonality. Run prophet with daily_seasonality=True to override this.\n"
          ],
          "name": "stderr"
        },
        {
          "output_type": "execute_result",
          "data": {
            "text/plain": [
              "<fbprophet.forecaster.Prophet at 0x7f303c02deb8>"
            ]
          },
          "metadata": {
            "tags": []
          },
          "execution_count": 41
        }
      ]
    },
    {
      "cell_type": "code",
      "metadata": {
        "colab": {
          "base_uri": "https://localhost:8080/"
        },
        "id": "wrz42qocguCK",
        "outputId": "d59fa05a-646c-4fdd-aba3-3be119959df6"
      },
      "source": [
        "model.component_modes"
      ],
      "execution_count": null,
      "outputs": [
        {
          "output_type": "execute_result",
          "data": {
            "text/plain": [
              "{'additive': ['weekly',\n",
              "  'additive_terms',\n",
              "  'extra_regressors_additive',\n",
              "  'holidays'],\n",
              " 'multiplicative': ['multiplicative_terms', 'extra_regressors_multiplicative']}"
            ]
          },
          "metadata": {
            "tags": []
          },
          "execution_count": 16
        }
      ]
    },
    {
      "cell_type": "code",
      "metadata": {
        "id": "oXXim6PqiciD"
      },
      "source": [
        "data_to_use=data_to_use.sort_values('ds',axis=0,ascending=True,inplace=False,kind='quicksort',na_position='last')"
      ],
      "execution_count": null,
      "outputs": []
    },
    {
      "cell_type": "code",
      "metadata": {
        "id": "SWiJJDbUiuRv"
      },
      "source": [
        "#Create future dates of 365\n",
        "future_dates = model.make_future_dataframe(periods=35)"
      ],
      "execution_count": null,
      "outputs": []
    },
    {
      "cell_type": "code",
      "metadata": {
        "colab": {
          "base_uri": "https://localhost:8080/",
          "height": 206
        },
        "id": "iMo1FrKLi-ak",
        "outputId": "7a3c6a5f-329c-42bc-d8f3-d4576d38fcd0"
      },
      "source": [
        "future_dates.tail()"
      ],
      "execution_count": null,
      "outputs": [
        {
          "output_type": "execute_result",
          "data": {
            "text/html": [
              "<div>\n",
              "<style scoped>\n",
              "    .dataframe tbody tr th:only-of-type {\n",
              "        vertical-align: middle;\n",
              "    }\n",
              "\n",
              "    .dataframe tbody tr th {\n",
              "        vertical-align: top;\n",
              "    }\n",
              "\n",
              "    .dataframe thead th {\n",
              "        text-align: right;\n",
              "    }\n",
              "</style>\n",
              "<table border=\"1\" class=\"dataframe\">\n",
              "  <thead>\n",
              "    <tr style=\"text-align: right;\">\n",
              "      <th></th>\n",
              "      <th>ds</th>\n",
              "    </tr>\n",
              "  </thead>\n",
              "  <tbody>\n",
              "    <tr>\n",
              "      <th>127</th>\n",
              "      <td>2020-12-27</td>\n",
              "    </tr>\n",
              "    <tr>\n",
              "      <th>128</th>\n",
              "      <td>2020-12-28</td>\n",
              "    </tr>\n",
              "    <tr>\n",
              "      <th>129</th>\n",
              "      <td>2020-12-29</td>\n",
              "    </tr>\n",
              "    <tr>\n",
              "      <th>130</th>\n",
              "      <td>2020-12-30</td>\n",
              "    </tr>\n",
              "    <tr>\n",
              "      <th>131</th>\n",
              "      <td>2020-12-31</td>\n",
              "    </tr>\n",
              "  </tbody>\n",
              "</table>\n",
              "</div>"
            ],
            "text/plain": [
              "            ds\n",
              "127 2020-12-27\n",
              "128 2020-12-28\n",
              "129 2020-12-29\n",
              "130 2020-12-30\n",
              "131 2020-12-31"
            ]
          },
          "metadata": {
            "tags": []
          },
          "execution_count": 43
        }
      ]
    },
    {
      "cell_type": "code",
      "metadata": {
        "id": "ZdOCF00V3Ke3"
      },
      "source": [
        ""
      ],
      "execution_count": null,
      "outputs": []
    },
    {
      "cell_type": "code",
      "metadata": {
        "id": "B9-gM0L3jBnG"
      },
      "source": [
        "prediction = model.predict(future_dates)"
      ],
      "execution_count": null,
      "outputs": []
    },
    {
      "cell_type": "code",
      "metadata": {
        "colab": {
          "base_uri": "https://localhost:8080/",
          "height": 226
        },
        "id": "-BK74r_kjOe_",
        "outputId": "91df2cbf-0213-45e0-9ec1-5ccc2af07fe9"
      },
      "source": [
        "prediction.head()"
      ],
      "execution_count": null,
      "outputs": [
        {
          "output_type": "execute_result",
          "data": {
            "text/html": [
              "<div>\n",
              "<style scoped>\n",
              "    .dataframe tbody tr th:only-of-type {\n",
              "        vertical-align: middle;\n",
              "    }\n",
              "\n",
              "    .dataframe tbody tr th {\n",
              "        vertical-align: top;\n",
              "    }\n",
              "\n",
              "    .dataframe thead th {\n",
              "        text-align: right;\n",
              "    }\n",
              "</style>\n",
              "<table border=\"1\" class=\"dataframe\">\n",
              "  <thead>\n",
              "    <tr style=\"text-align: right;\">\n",
              "      <th></th>\n",
              "      <th>ds</th>\n",
              "      <th>trend</th>\n",
              "      <th>yhat_lower</th>\n",
              "      <th>yhat_upper</th>\n",
              "      <th>trend_lower</th>\n",
              "      <th>trend_upper</th>\n",
              "      <th>additive_terms</th>\n",
              "      <th>additive_terms_lower</th>\n",
              "      <th>additive_terms_upper</th>\n",
              "      <th>weekly</th>\n",
              "      <th>weekly_lower</th>\n",
              "      <th>weekly_upper</th>\n",
              "      <th>multiplicative_terms</th>\n",
              "      <th>multiplicative_terms_lower</th>\n",
              "      <th>multiplicative_terms_upper</th>\n",
              "      <th>yhat</th>\n",
              "    </tr>\n",
              "  </thead>\n",
              "  <tbody>\n",
              "    <tr>\n",
              "      <th>0</th>\n",
              "      <td>2020-06-29</td>\n",
              "      <td>228.698239</td>\n",
              "      <td>322.035112</td>\n",
              "      <td>508.889746</td>\n",
              "      <td>228.698239</td>\n",
              "      <td>228.698239</td>\n",
              "      <td>184.401310</td>\n",
              "      <td>184.401310</td>\n",
              "      <td>184.401310</td>\n",
              "      <td>184.401310</td>\n",
              "      <td>184.401310</td>\n",
              "      <td>184.401310</td>\n",
              "      <td>0.0</td>\n",
              "      <td>0.0</td>\n",
              "      <td>0.0</td>\n",
              "      <td>413.099549</td>\n",
              "    </tr>\n",
              "    <tr>\n",
              "      <th>1</th>\n",
              "      <td>2020-06-30</td>\n",
              "      <td>233.800770</td>\n",
              "      <td>313.612538</td>\n",
              "      <td>505.188907</td>\n",
              "      <td>233.800770</td>\n",
              "      <td>233.800770</td>\n",
              "      <td>176.882692</td>\n",
              "      <td>176.882692</td>\n",
              "      <td>176.882692</td>\n",
              "      <td>176.882692</td>\n",
              "      <td>176.882692</td>\n",
              "      <td>176.882692</td>\n",
              "      <td>0.0</td>\n",
              "      <td>0.0</td>\n",
              "      <td>0.0</td>\n",
              "      <td>410.683462</td>\n",
              "    </tr>\n",
              "    <tr>\n",
              "      <th>2</th>\n",
              "      <td>2020-07-01</td>\n",
              "      <td>238.903300</td>\n",
              "      <td>328.567504</td>\n",
              "      <td>523.587670</td>\n",
              "      <td>238.903300</td>\n",
              "      <td>238.903300</td>\n",
              "      <td>188.495500</td>\n",
              "      <td>188.495500</td>\n",
              "      <td>188.495500</td>\n",
              "      <td>188.495500</td>\n",
              "      <td>188.495500</td>\n",
              "      <td>188.495500</td>\n",
              "      <td>0.0</td>\n",
              "      <td>0.0</td>\n",
              "      <td>0.0</td>\n",
              "      <td>427.398800</td>\n",
              "    </tr>\n",
              "    <tr>\n",
              "      <th>3</th>\n",
              "      <td>2020-07-02</td>\n",
              "      <td>244.005830</td>\n",
              "      <td>341.015983</td>\n",
              "      <td>530.627957</td>\n",
              "      <td>244.005830</td>\n",
              "      <td>244.005830</td>\n",
              "      <td>189.394366</td>\n",
              "      <td>189.394366</td>\n",
              "      <td>189.394366</td>\n",
              "      <td>189.394366</td>\n",
              "      <td>189.394366</td>\n",
              "      <td>189.394366</td>\n",
              "      <td>0.0</td>\n",
              "      <td>0.0</td>\n",
              "      <td>0.0</td>\n",
              "      <td>433.400196</td>\n",
              "    </tr>\n",
              "    <tr>\n",
              "      <th>4</th>\n",
              "      <td>2020-07-05</td>\n",
              "      <td>259.313421</td>\n",
              "      <td>339.988477</td>\n",
              "      <td>535.420699</td>\n",
              "      <td>259.313421</td>\n",
              "      <td>259.313421</td>\n",
              "      <td>176.190033</td>\n",
              "      <td>176.190033</td>\n",
              "      <td>176.190033</td>\n",
              "      <td>176.190033</td>\n",
              "      <td>176.190033</td>\n",
              "      <td>176.190033</td>\n",
              "      <td>0.0</td>\n",
              "      <td>0.0</td>\n",
              "      <td>0.0</td>\n",
              "      <td>435.503454</td>\n",
              "    </tr>\n",
              "  </tbody>\n",
              "</table>\n",
              "</div>"
            ],
            "text/plain": [
              "          ds       trend  ...  multiplicative_terms_upper        yhat\n",
              "0 2020-06-29  228.698239  ...                         0.0  413.099549\n",
              "1 2020-06-30  233.800770  ...                         0.0  410.683462\n",
              "2 2020-07-01  238.903300  ...                         0.0  427.398800\n",
              "3 2020-07-02  244.005830  ...                         0.0  433.400196\n",
              "4 2020-07-05  259.313421  ...                         0.0  435.503454\n",
              "\n",
              "[5 rows x 16 columns]"
            ]
          },
          "metadata": {
            "tags": []
          },
          "execution_count": 45
        }
      ]
    },
    {
      "cell_type": "code",
      "metadata": {
        "colab": {
          "base_uri": "https://localhost:8080/",
          "height": 441
        },
        "id": "mJjoZZENjRXf",
        "outputId": "2713930b-beed-4f15-dc1b-186d69463c46"
      },
      "source": [
        "model.plot(prediction)\n",
        "plt.show()"
      ],
      "execution_count": null,
      "outputs": [
        {
          "output_type": "display_data",
          "data": {
            "image/png": "[encoded data removed]",
            "text/plain": [
              "<Figure size 720x432 with 1 Axes>"
            ]
          },
          "metadata": {
            "tags": []
          }
        }
      ]
    },
    {
      "cell_type": "code",
      "metadata": {
        "id": "1ZVnsHbL5p57"
      },
      "source": [
        ""
      ],
      "execution_count": null,
      "outputs": []
    },
    {
      "cell_type": "code",
      "metadata": {
        "colab": {
          "base_uri": "https://localhost:8080/",
          "height": 865
        },
        "id": "KL7cFpGxkO0_",
        "outputId": "abc6d882-da32-41e7-b51d-fc9ff89127c9"
      },
      "source": [
        "#Weekly, daywise\n",
        "model.plot_components(prediction)"
      ],
      "execution_count": null,
      "outputs": [
        {
          "output_type": "execute_result",
          "data": {
            "image/png": "[encoded data removed]",
            "text/plain": [
              "<Figure size 648x432 with 2 Axes>"
            ]
          },
          "metadata": {
            "tags": []
          },
          "execution_count": 47
        },
        {
          "output_type": "display_data",
          "data": {
            "image/png": "[encoded data removed]",
            "text/plain": [
              "<Figure size 648x432 with 2 Axes>"
            ]
          },
          "metadata": {
            "tags": []
          }
        }
      ]
    },
    {
      "cell_type": "code",
      "metadata": {
        "id": "vuLSm8XN3pkT"
      },
      "source": [
        ""
      ],
      "execution_count": null,
      "outputs": []
    },
    {
      "cell_type": "code",
      "metadata": {
        "colab": {
          "base_uri": "https://localhost:8080/",
          "height": 308,
          "referenced_widgets": [
            "19327225f1674bb38c62db85c7066aba",
            "9d248b6fab444eaa814ae194eb8da799",
            "4b0e701b761642cb8386cd559951facc",
            "5cc78a89f4aa4ffb91df4a3ab7f8bcb8",
            "0811fa64e73a47c6b86feeefed35f164",
            "6eb9adda20ab4e79b8d6e4c15d1907d4",
            "2532120569704e8487576d1979399bb0",
            "64a65ced964f4329bc0b1e3228454eb9"
          ]
        },
        "id": "2aESDfcCkR8W",
        "outputId": "dd3b2adc-a788-47b0-a945-a61854b6730c"
      },
      "source": [
        "from fbprophet.diagnostics import cross_validation\n",
        "df_cv = cross_validation(model, initial='30 days', period='18 days', horizon = '65 days')\n",
        "df_cv.head()"
      ],
      "execution_count": null,
      "outputs": [
        {
          "output_type": "stream",
          "text": [
            "INFO:fbprophet:Making 4 forecasts with cutoffs between 2020-07-30 00:00:00 and 2020-09-22 00:00:00\n"
          ],
          "name": "stderr"
        },
        {
          "output_type": "display_data",
          "data": {
            "application/vnd.jupyter.widget-view+json": {
              "model_id": "19327225f1674bb38c62db85c7066aba",
              "version_minor": 0,
              "version_major": 2
            },
            "text/plain": [
              "HBox(children=(FloatProgress(value=0.0, max=4.0), HTML(value='')))"
            ]
          },
          "metadata": {
            "tags": []
          }
        },
        {
          "output_type": "stream",
          "text": [
            "INFO:fbprophet:n_changepoints greater than number of observations. Using 16.\n",
            "INFO:fbprophet:n_changepoints greater than number of observations. Using 24.\n"
          ],
          "name": "stderr"
        },
        {
          "output_type": "stream",
          "text": [
            "\n"
          ],
          "name": "stdout"
        },
        {
          "output_type": "execute_result",
          "data": {
            "text/html": [
              "<div>\n",
              "<style scoped>\n",
              "    .dataframe tbody tr th:only-of-type {\n",
              "        vertical-align: middle;\n",
              "    }\n",
              "\n",
              "    .dataframe tbody tr th {\n",
              "        vertical-align: top;\n",
              "    }\n",
              "\n",
              "    .dataframe thead th {\n",
              "        text-align: right;\n",
              "    }\n",
              "</style>\n",
              "<table border=\"1\" class=\"dataframe\">\n",
              "  <thead>\n",
              "    <tr style=\"text-align: right;\">\n",
              "      <th></th>\n",
              "      <th>ds</th>\n",
              "      <th>yhat</th>\n",
              "      <th>yhat_lower</th>\n",
              "      <th>yhat_upper</th>\n",
              "      <th>y</th>\n",
              "      <th>cutoff</th>\n",
              "    </tr>\n",
              "  </thead>\n",
              "  <tbody>\n",
              "    <tr>\n",
              "      <th>0</th>\n",
              "      <td>2020-08-02</td>\n",
              "      <td>605.722651</td>\n",
              "      <td>579.805925</td>\n",
              "      <td>633.665327</td>\n",
              "      <td>586</td>\n",
              "      <td>2020-07-30</td>\n",
              "    </tr>\n",
              "    <tr>\n",
              "      <th>1</th>\n",
              "      <td>2020-08-03</td>\n",
              "      <td>618.079716</td>\n",
              "      <td>590.307712</td>\n",
              "      <td>644.203514</td>\n",
              "      <td>589</td>\n",
              "      <td>2020-07-30</td>\n",
              "    </tr>\n",
              "    <tr>\n",
              "      <th>2</th>\n",
              "      <td>2020-08-06</td>\n",
              "      <td>623.350179</td>\n",
              "      <td>594.646302</td>\n",
              "      <td>649.334077</td>\n",
              "      <td>575</td>\n",
              "      <td>2020-07-30</td>\n",
              "    </tr>\n",
              "    <tr>\n",
              "      <th>3</th>\n",
              "      <td>2020-08-09</td>\n",
              "      <td>641.809214</td>\n",
              "      <td>615.273904</td>\n",
              "      <td>668.583090</td>\n",
              "      <td>572</td>\n",
              "      <td>2020-07-30</td>\n",
              "    </tr>\n",
              "    <tr>\n",
              "      <th>4</th>\n",
              "      <td>2020-08-10</td>\n",
              "      <td>654.166280</td>\n",
              "      <td>626.681576</td>\n",
              "      <td>682.942104</td>\n",
              "      <td>591</td>\n",
              "      <td>2020-07-30</td>\n",
              "    </tr>\n",
              "  </tbody>\n",
              "</table>\n",
              "</div>"
            ],
            "text/plain": [
              "          ds        yhat  yhat_lower  yhat_upper    y     cutoff\n",
              "0 2020-08-02  605.722651  579.805925  633.665327  586 2020-07-30\n",
              "1 2020-08-03  618.079716  590.307712  644.203514  589 2020-07-30\n",
              "2 2020-08-06  623.350179  594.646302  649.334077  575 2020-07-30\n",
              "3 2020-08-09  641.809214  615.273904  668.583090  572 2020-07-30\n",
              "4 2020-08-10  654.166280  626.681576  682.942104  591 2020-07-30"
            ]
          },
          "metadata": {
            "tags": []
          },
          "execution_count": 25
        }
      ]
    },
    {
      "cell_type": "code",
      "metadata": {
        "colab": {
          "base_uri": "https://localhost:8080/",
          "height": 206
        },
        "id": "h3TFZOn1lMLE",
        "outputId": "6b56d1e5-7ff6-40fb-ee03-7dc067103669"
      },
      "source": [
        "from fbprophet.diagnostics import performance_metrics\n",
        "df_p = performance_metrics(df_cv)\n",
        "df_p.head()"
      ],
      "execution_count": null,
      "outputs": [
        {
          "output_type": "execute_result",
          "data": {
            "text/html": [
              "<div>\n",
              "<style scoped>\n",
              "    .dataframe tbody tr th:only-of-type {\n",
              "        vertical-align: middle;\n",
              "    }\n",
              "\n",
              "    .dataframe tbody tr th {\n",
              "        vertical-align: top;\n",
              "    }\n",
              "\n",
              "    .dataframe thead th {\n",
              "        text-align: right;\n",
              "    }\n",
              "</style>\n",
              "<table border=\"1\" class=\"dataframe\">\n",
              "  <thead>\n",
              "    <tr style=\"text-align: right;\">\n",
              "      <th></th>\n",
              "      <th>horizon</th>\n",
              "      <th>mse</th>\n",
              "      <th>rmse</th>\n",
              "      <th>mae</th>\n",
              "      <th>mape</th>\n",
              "      <th>mdape</th>\n",
              "      <th>coverage</th>\n",
              "    </tr>\n",
              "  </thead>\n",
              "  <tbody>\n",
              "    <tr>\n",
              "      <th>0</th>\n",
              "      <td>7 days</td>\n",
              "      <td>6530.091263</td>\n",
              "      <td>80.808980</td>\n",
              "      <td>67.193647</td>\n",
              "      <td>0.082251</td>\n",
              "      <td>0.091676</td>\n",
              "      <td>0.323529</td>\n",
              "    </tr>\n",
              "    <tr>\n",
              "      <th>1</th>\n",
              "      <td>8 days</td>\n",
              "      <td>7493.913424</td>\n",
              "      <td>86.567392</td>\n",
              "      <td>73.360009</td>\n",
              "      <td>0.090735</td>\n",
              "      <td>0.108975</td>\n",
              "      <td>0.274510</td>\n",
              "    </tr>\n",
              "    <tr>\n",
              "      <th>2</th>\n",
              "      <td>9 days</td>\n",
              "      <td>8947.517751</td>\n",
              "      <td>94.591320</td>\n",
              "      <td>83.086001</td>\n",
              "      <td>0.102434</td>\n",
              "      <td>0.119425</td>\n",
              "      <td>0.196078</td>\n",
              "    </tr>\n",
              "    <tr>\n",
              "      <th>3</th>\n",
              "      <td>10 days</td>\n",
              "      <td>9665.873608</td>\n",
              "      <td>98.315175</td>\n",
              "      <td>89.970474</td>\n",
              "      <td>0.113260</td>\n",
              "      <td>0.122044</td>\n",
              "      <td>0.117647</td>\n",
              "    </tr>\n",
              "    <tr>\n",
              "      <th>4</th>\n",
              "      <td>11 days</td>\n",
              "      <td>9426.245178</td>\n",
              "      <td>97.088852</td>\n",
              "      <td>89.095206</td>\n",
              "      <td>0.113726</td>\n",
              "      <td>0.122044</td>\n",
              "      <td>0.117647</td>\n",
              "    </tr>\n",
              "  </tbody>\n",
              "</table>\n",
              "</div>"
            ],
            "text/plain": [
              "  horizon          mse       rmse        mae      mape     mdape  coverage\n",
              "0  7 days  6530.091263  80.808980  67.193647  0.082251  0.091676  0.323529\n",
              "1  8 days  7493.913424  86.567392  73.360009  0.090735  0.108975  0.274510\n",
              "2  9 days  8947.517751  94.591320  83.086001  0.102434  0.119425  0.196078\n",
              "3 10 days  9665.873608  98.315175  89.970474  0.113260  0.122044  0.117647\n",
              "4 11 days  9426.245178  97.088852  89.095206  0.113726  0.122044  0.117647"
            ]
          },
          "metadata": {
            "tags": []
          },
          "execution_count": 26
        }
      ]
    },
    {
      "cell_type": "code",
      "metadata": {
        "colab": {
          "base_uri": "https://localhost:8080/",
          "height": 388
        },
        "id": "pXOuplPhlVhK",
        "outputId": "7e79ecc8-a73f-48fe-a015-16122522c014"
      },
      "source": [
        "from fbprophet.plot import plot_cross_validation_metric\n",
        "fig = plot_cross_validation_metric(df_cv, metric='rmse')"
      ],
      "execution_count": null,
      "outputs": [
        {
          "output_type": "display_data",
          "data": {
            "image/png": "[encoded data removed]",
            "text/plain": [
              "<Figure size 720x432 with 1 Axes>"
            ]
          },
          "metadata": {
            "tags": []
          }
        }
      ]
    },
    {
      "cell_type": "code",
      "metadata": {
        "colab": {
          "base_uri": "https://localhost:8080/",
          "height": 1000
        },
        "id": "-2w0yQUblgsJ",
        "outputId": "27031850-15af-4de5-deab-1e965ebad3c9"
      },
      "source": [
        "df_p"
      ],
      "execution_count": null,
      "outputs": [
        {
          "output_type": "execute_result",
          "data": {
            "text/html": [
              "<div>\n",
              "<style scoped>\n",
              "    .dataframe tbody tr th:only-of-type {\n",
              "        vertical-align: middle;\n",
              "    }\n",
              "\n",
              "    .dataframe tbody tr th {\n",
              "        vertical-align: top;\n",
              "    }\n",
              "\n",
              "    .dataframe thead th {\n",
              "        text-align: right;\n",
              "    }\n",
              "</style>\n",
              "<table border=\"1\" class=\"dataframe\">\n",
              "  <thead>\n",
              "    <tr style=\"text-align: right;\">\n",
              "      <th></th>\n",
              "      <th>horizon</th>\n",
              "      <th>mse</th>\n",
              "      <th>rmse</th>\n",
              "      <th>mae</th>\n",
              "      <th>mape</th>\n",
              "      <th>mdape</th>\n",
              "      <th>coverage</th>\n",
              "    </tr>\n",
              "  </thead>\n",
              "  <tbody>\n",
              "    <tr>\n",
              "      <th>0</th>\n",
              "      <td>7 days</td>\n",
              "      <td>6530.091263</td>\n",
              "      <td>80.808980</td>\n",
              "      <td>67.193647</td>\n",
              "      <td>0.082251</td>\n",
              "      <td>0.091676</td>\n",
              "      <td>0.323529</td>\n",
              "    </tr>\n",
              "    <tr>\n",
              "      <th>1</th>\n",
              "      <td>8 days</td>\n",
              "      <td>7493.913424</td>\n",
              "      <td>86.567392</td>\n",
              "      <td>73.360009</td>\n",
              "      <td>0.090735</td>\n",
              "      <td>0.108975</td>\n",
              "      <td>0.274510</td>\n",
              "    </tr>\n",
              "    <tr>\n",
              "      <th>2</th>\n",
              "      <td>9 days</td>\n",
              "      <td>8947.517751</td>\n",
              "      <td>94.591320</td>\n",
              "      <td>83.086001</td>\n",
              "      <td>0.102434</td>\n",
              "      <td>0.119425</td>\n",
              "      <td>0.196078</td>\n",
              "    </tr>\n",
              "    <tr>\n",
              "      <th>3</th>\n",
              "      <td>10 days</td>\n",
              "      <td>9665.873608</td>\n",
              "      <td>98.315175</td>\n",
              "      <td>89.970474</td>\n",
              "      <td>0.113260</td>\n",
              "      <td>0.122044</td>\n",
              "      <td>0.117647</td>\n",
              "    </tr>\n",
              "    <tr>\n",
              "      <th>4</th>\n",
              "      <td>11 days</td>\n",
              "      <td>9426.245178</td>\n",
              "      <td>97.088852</td>\n",
              "      <td>89.095206</td>\n",
              "      <td>0.113726</td>\n",
              "      <td>0.122044</td>\n",
              "      <td>0.117647</td>\n",
              "    </tr>\n",
              "    <tr>\n",
              "      <th>5</th>\n",
              "      <td>12 days</td>\n",
              "      <td>9088.249050</td>\n",
              "      <td>95.332309</td>\n",
              "      <td>88.558291</td>\n",
              "      <td>0.115027</td>\n",
              "      <td>0.122044</td>\n",
              "      <td>0.137255</td>\n",
              "    </tr>\n",
              "    <tr>\n",
              "      <th>6</th>\n",
              "      <td>13 days</td>\n",
              "      <td>9615.622903</td>\n",
              "      <td>98.059283</td>\n",
              "      <td>92.988259</td>\n",
              "      <td>0.120826</td>\n",
              "      <td>0.122044</td>\n",
              "      <td>0.137255</td>\n",
              "    </tr>\n",
              "    <tr>\n",
              "      <th>7</th>\n",
              "      <td>14 days</td>\n",
              "      <td>12553.114959</td>\n",
              "      <td>112.040684</td>\n",
              "      <td>103.410167</td>\n",
              "      <td>0.133379</td>\n",
              "      <td>0.134430</td>\n",
              "      <td>0.117647</td>\n",
              "    </tr>\n",
              "    <tr>\n",
              "      <th>8</th>\n",
              "      <td>15 days</td>\n",
              "      <td>13595.471719</td>\n",
              "      <td>116.599621</td>\n",
              "      <td>106.920881</td>\n",
              "      <td>0.136916</td>\n",
              "      <td>0.134430</td>\n",
              "      <td>0.117647</td>\n",
              "    </tr>\n",
              "    <tr>\n",
              "      <th>9</th>\n",
              "      <td>16 days</td>\n",
              "      <td>18286.577334</td>\n",
              "      <td>135.227872</td>\n",
              "      <td>117.915571</td>\n",
              "      <td>0.146685</td>\n",
              "      <td>0.134430</td>\n",
              "      <td>0.176471</td>\n",
              "    </tr>\n",
              "    <tr>\n",
              "      <th>10</th>\n",
              "      <td>17 days</td>\n",
              "      <td>22396.536103</td>\n",
              "      <td>149.654723</td>\n",
              "      <td>127.378455</td>\n",
              "      <td>0.157039</td>\n",
              "      <td>0.136960</td>\n",
              "      <td>0.235294</td>\n",
              "    </tr>\n",
              "    <tr>\n",
              "      <th>11</th>\n",
              "      <td>18 days</td>\n",
              "      <td>22287.677356</td>\n",
              "      <td>149.290580</td>\n",
              "      <td>126.124795</td>\n",
              "      <td>0.157357</td>\n",
              "      <td>0.156409</td>\n",
              "      <td>0.274510</td>\n",
              "    </tr>\n",
              "    <tr>\n",
              "      <th>12</th>\n",
              "      <td>19 days</td>\n",
              "      <td>23837.410653</td>\n",
              "      <td>154.393687</td>\n",
              "      <td>129.461831</td>\n",
              "      <td>0.162485</td>\n",
              "      <td>0.165688</td>\n",
              "      <td>0.274510</td>\n",
              "    </tr>\n",
              "    <tr>\n",
              "      <th>13</th>\n",
              "      <td>20 days</td>\n",
              "      <td>27181.492614</td>\n",
              "      <td>164.868107</td>\n",
              "      <td>136.772667</td>\n",
              "      <td>0.171628</td>\n",
              "      <td>0.178949</td>\n",
              "      <td>0.294118</td>\n",
              "    </tr>\n",
              "    <tr>\n",
              "      <th>14</th>\n",
              "      <td>21 days</td>\n",
              "      <td>28254.797640</td>\n",
              "      <td>168.091635</td>\n",
              "      <td>140.579792</td>\n",
              "      <td>0.179480</td>\n",
              "      <td>0.193007</td>\n",
              "      <td>0.274510</td>\n",
              "    </tr>\n",
              "    <tr>\n",
              "      <th>15</th>\n",
              "      <td>22 days</td>\n",
              "      <td>31021.435309</td>\n",
              "      <td>176.129030</td>\n",
              "      <td>149.808209</td>\n",
              "      <td>0.191058</td>\n",
              "      <td>0.208711</td>\n",
              "      <td>0.235294</td>\n",
              "    </tr>\n",
              "    <tr>\n",
              "      <th>16</th>\n",
              "      <td>23 days</td>\n",
              "      <td>33517.360187</td>\n",
              "      <td>183.077470</td>\n",
              "      <td>156.753847</td>\n",
              "      <td>0.195765</td>\n",
              "      <td>0.236032</td>\n",
              "      <td>0.235294</td>\n",
              "    </tr>\n",
              "    <tr>\n",
              "      <th>17</th>\n",
              "      <td>24 days</td>\n",
              "      <td>37361.790305</td>\n",
              "      <td>193.291982</td>\n",
              "      <td>166.989325</td>\n",
              "      <td>0.206256</td>\n",
              "      <td>0.254861</td>\n",
              "      <td>0.215686</td>\n",
              "    </tr>\n",
              "    <tr>\n",
              "      <th>18</th>\n",
              "      <td>25 days</td>\n",
              "      <td>35986.401639</td>\n",
              "      <td>189.700821</td>\n",
              "      <td>161.242719</td>\n",
              "      <td>0.200217</td>\n",
              "      <td>0.254861</td>\n",
              "      <td>0.235294</td>\n",
              "    </tr>\n",
              "    <tr>\n",
              "      <th>19</th>\n",
              "      <td>26 days</td>\n",
              "      <td>34671.149812</td>\n",
              "      <td>186.201906</td>\n",
              "      <td>155.293174</td>\n",
              "      <td>0.191687</td>\n",
              "      <td>0.256722</td>\n",
              "      <td>0.250000</td>\n",
              "    </tr>\n",
              "    <tr>\n",
              "      <th>20</th>\n",
              "      <td>27 days</td>\n",
              "      <td>35139.572762</td>\n",
              "      <td>187.455522</td>\n",
              "      <td>148.516643</td>\n",
              "      <td>0.178714</td>\n",
              "      <td>0.197957</td>\n",
              "      <td>0.352941</td>\n",
              "    </tr>\n",
              "    <tr>\n",
              "      <th>21</th>\n",
              "      <td>28 days</td>\n",
              "      <td>33417.111543</td>\n",
              "      <td>182.803478</td>\n",
              "      <td>141.139537</td>\n",
              "      <td>0.170107</td>\n",
              "      <td>0.164005</td>\n",
              "      <td>0.392157</td>\n",
              "    </tr>\n",
              "    <tr>\n",
              "      <th>22</th>\n",
              "      <td>29 days</td>\n",
              "      <td>37520.079862</td>\n",
              "      <td>193.701006</td>\n",
              "      <td>153.435878</td>\n",
              "      <td>0.184399</td>\n",
              "      <td>0.197957</td>\n",
              "      <td>0.352941</td>\n",
              "    </tr>\n",
              "    <tr>\n",
              "      <th>23</th>\n",
              "      <td>30 days</td>\n",
              "      <td>41108.940333</td>\n",
              "      <td>202.753398</td>\n",
              "      <td>162.068378</td>\n",
              "      <td>0.191218</td>\n",
              "      <td>0.287065</td>\n",
              "      <td>0.352941</td>\n",
              "    </tr>\n",
              "    <tr>\n",
              "      <th>24</th>\n",
              "      <td>31 days</td>\n",
              "      <td>44378.488464</td>\n",
              "      <td>210.662024</td>\n",
              "      <td>171.808292</td>\n",
              "      <td>0.199528</td>\n",
              "      <td>0.289529</td>\n",
              "      <td>0.352941</td>\n",
              "    </tr>\n",
              "    <tr>\n",
              "      <th>25</th>\n",
              "      <td>32 days</td>\n",
              "      <td>41847.185523</td>\n",
              "      <td>204.565846</td>\n",
              "      <td>163.898957</td>\n",
              "      <td>0.189576</td>\n",
              "      <td>0.287065</td>\n",
              "      <td>0.372549</td>\n",
              "    </tr>\n",
              "    <tr>\n",
              "      <th>26</th>\n",
              "      <td>33 days</td>\n",
              "      <td>40531.521256</td>\n",
              "      <td>201.324418</td>\n",
              "      <td>160.039942</td>\n",
              "      <td>0.184626</td>\n",
              "      <td>0.287065</td>\n",
              "      <td>0.411765</td>\n",
              "    </tr>\n",
              "    <tr>\n",
              "      <th>27</th>\n",
              "      <td>34 days</td>\n",
              "      <td>37938.464666</td>\n",
              "      <td>194.777988</td>\n",
              "      <td>157.781277</td>\n",
              "      <td>0.181859</td>\n",
              "      <td>0.272279</td>\n",
              "      <td>0.382353</td>\n",
              "    </tr>\n",
              "    <tr>\n",
              "      <th>28</th>\n",
              "      <td>35 days</td>\n",
              "      <td>36793.009536</td>\n",
              "      <td>191.815040</td>\n",
              "      <td>158.595605</td>\n",
              "      <td>0.182592</td>\n",
              "      <td>0.264591</td>\n",
              "      <td>0.333333</td>\n",
              "    </tr>\n",
              "    <tr>\n",
              "      <th>29</th>\n",
              "      <td>36 days</td>\n",
              "      <td>41550.705459</td>\n",
              "      <td>203.839902</td>\n",
              "      <td>171.098643</td>\n",
              "      <td>0.196914</td>\n",
              "      <td>0.264591</td>\n",
              "      <td>0.294118</td>\n",
              "    </tr>\n",
              "    <tr>\n",
              "      <th>30</th>\n",
              "      <td>37 days</td>\n",
              "      <td>39504.324487</td>\n",
              "      <td>198.756948</td>\n",
              "      <td>164.247736</td>\n",
              "      <td>0.189127</td>\n",
              "      <td>0.264591</td>\n",
              "      <td>0.333333</td>\n",
              "    </tr>\n",
              "    <tr>\n",
              "      <th>31</th>\n",
              "      <td>38 days</td>\n",
              "      <td>35614.100044</td>\n",
              "      <td>188.716984</td>\n",
              "      <td>157.845149</td>\n",
              "      <td>0.181979</td>\n",
              "      <td>0.143155</td>\n",
              "      <td>0.264706</td>\n",
              "    </tr>\n",
              "    <tr>\n",
              "      <th>32</th>\n",
              "      <td>39 days</td>\n",
              "      <td>33991.375288</td>\n",
              "      <td>184.367501</td>\n",
              "      <td>154.534577</td>\n",
              "      <td>0.178323</td>\n",
              "      <td>0.136449</td>\n",
              "      <td>0.323529</td>\n",
              "    </tr>\n",
              "    <tr>\n",
              "      <th>33</th>\n",
              "      <td>40 days</td>\n",
              "      <td>41006.323906</td>\n",
              "      <td>202.500182</td>\n",
              "      <td>171.902530</td>\n",
              "      <td>0.198810</td>\n",
              "      <td>0.143155</td>\n",
              "      <td>0.215686</td>\n",
              "    </tr>\n",
              "    <tr>\n",
              "      <th>34</th>\n",
              "      <td>41 days</td>\n",
              "      <td>46708.299986</td>\n",
              "      <td>216.121031</td>\n",
              "      <td>181.692592</td>\n",
              "      <td>0.210589</td>\n",
              "      <td>0.130112</td>\n",
              "      <td>0.176471</td>\n",
              "    </tr>\n",
              "    <tr>\n",
              "      <th>35</th>\n",
              "      <td>42 days</td>\n",
              "      <td>44383.118362</td>\n",
              "      <td>210.673013</td>\n",
              "      <td>175.088299</td>\n",
              "      <td>0.202976</td>\n",
              "      <td>0.121889</td>\n",
              "      <td>0.156863</td>\n",
              "    </tr>\n",
              "    <tr>\n",
              "      <th>36</th>\n",
              "      <td>43 days</td>\n",
              "      <td>49930.252515</td>\n",
              "      <td>223.450783</td>\n",
              "      <td>186.877559</td>\n",
              "      <td>0.216978</td>\n",
              "      <td>0.130112</td>\n",
              "      <td>0.117647</td>\n",
              "    </tr>\n",
              "    <tr>\n",
              "      <th>37</th>\n",
              "      <td>44 days</td>\n",
              "      <td>58620.382370</td>\n",
              "      <td>242.116464</td>\n",
              "      <td>205.164193</td>\n",
              "      <td>0.238687</td>\n",
              "      <td>0.242292</td>\n",
              "      <td>0.117647</td>\n",
              "    </tr>\n",
              "    <tr>\n",
              "      <th>38</th>\n",
              "      <td>45 days</td>\n",
              "      <td>59452.595083</td>\n",
              "      <td>243.829028</td>\n",
              "      <td>211.885656</td>\n",
              "      <td>0.246201</td>\n",
              "      <td>0.250923</td>\n",
              "      <td>0.000000</td>\n",
              "    </tr>\n",
              "    <tr>\n",
              "      <th>39</th>\n",
              "      <td>46 days</td>\n",
              "      <td>54424.310008</td>\n",
              "      <td>233.290184</td>\n",
              "      <td>200.096638</td>\n",
              "      <td>0.232358</td>\n",
              "      <td>0.242292</td>\n",
              "      <td>0.058824</td>\n",
              "    </tr>\n",
              "    <tr>\n",
              "      <th>40</th>\n",
              "      <td>47 days</td>\n",
              "      <td>55018.606293</td>\n",
              "      <td>234.560453</td>\n",
              "      <td>198.901414</td>\n",
              "      <td>0.230056</td>\n",
              "      <td>0.242292</td>\n",
              "      <td>0.117647</td>\n",
              "    </tr>\n",
              "    <tr>\n",
              "      <th>41</th>\n",
              "      <td>48 days</td>\n",
              "      <td>51612.951084</td>\n",
              "      <td>227.184839</td>\n",
              "      <td>191.607465</td>\n",
              "      <td>0.218760</td>\n",
              "      <td>0.165120</td>\n",
              "      <td>0.176471</td>\n",
              "    </tr>\n",
              "    <tr>\n",
              "      <th>42</th>\n",
              "      <td>49 days</td>\n",
              "      <td>44653.560087</td>\n",
              "      <td>211.313890</td>\n",
              "      <td>176.393931</td>\n",
              "      <td>0.197977</td>\n",
              "      <td>0.160918</td>\n",
              "      <td>0.235294</td>\n",
              "    </tr>\n",
              "    <tr>\n",
              "      <th>43</th>\n",
              "      <td>50 days</td>\n",
              "      <td>46784.985011</td>\n",
              "      <td>216.298370</td>\n",
              "      <td>183.043074</td>\n",
              "      <td>0.202574</td>\n",
              "      <td>0.165120</td>\n",
              "      <td>0.235294</td>\n",
              "    </tr>\n",
              "    <tr>\n",
              "      <th>44</th>\n",
              "      <td>51 days</td>\n",
              "      <td>53342.336729</td>\n",
              "      <td>230.959600</td>\n",
              "      <td>198.867436</td>\n",
              "      <td>0.218031</td>\n",
              "      <td>0.253039</td>\n",
              "      <td>0.235294</td>\n",
              "    </tr>\n",
              "    <tr>\n",
              "      <th>45</th>\n",
              "      <td>52 days</td>\n",
              "      <td>54474.773592</td>\n",
              "      <td>233.398315</td>\n",
              "      <td>199.077056</td>\n",
              "      <td>0.218225</td>\n",
              "      <td>0.260931</td>\n",
              "      <td>0.264706</td>\n",
              "    </tr>\n",
              "    <tr>\n",
              "      <th>46</th>\n",
              "      <td>53 days</td>\n",
              "      <td>54038.340655</td>\n",
              "      <td>232.461482</td>\n",
              "      <td>194.873721</td>\n",
              "      <td>0.213359</td>\n",
              "      <td>0.260931</td>\n",
              "      <td>0.294118</td>\n",
              "    </tr>\n",
              "    <tr>\n",
              "      <th>47</th>\n",
              "      <td>54 days</td>\n",
              "      <td>49019.440676</td>\n",
              "      <td>221.403344</td>\n",
              "      <td>182.481419</td>\n",
              "      <td>0.199553</td>\n",
              "      <td>0.253039</td>\n",
              "      <td>0.313725</td>\n",
              "    </tr>\n",
              "    <tr>\n",
              "      <th>48</th>\n",
              "      <td>55 days</td>\n",
              "      <td>44437.495898</td>\n",
              "      <td>210.802030</td>\n",
              "      <td>172.008499</td>\n",
              "      <td>0.189195</td>\n",
              "      <td>0.249423</td>\n",
              "      <td>0.323529</td>\n",
              "    </tr>\n",
              "    <tr>\n",
              "      <th>49</th>\n",
              "      <td>56 days</td>\n",
              "      <td>41339.146816</td>\n",
              "      <td>203.320306</td>\n",
              "      <td>162.560853</td>\n",
              "      <td>0.179767</td>\n",
              "      <td>0.237460</td>\n",
              "      <td>0.352941</td>\n",
              "    </tr>\n",
              "    <tr>\n",
              "      <th>50</th>\n",
              "      <td>57 days</td>\n",
              "      <td>43977.093322</td>\n",
              "      <td>209.707161</td>\n",
              "      <td>170.817542</td>\n",
              "      <td>0.187443</td>\n",
              "      <td>0.240912</td>\n",
              "      <td>0.313725</td>\n",
              "    </tr>\n",
              "    <tr>\n",
              "      <th>51</th>\n",
              "      <td>58 days</td>\n",
              "      <td>37863.882489</td>\n",
              "      <td>194.586440</td>\n",
              "      <td>160.768861</td>\n",
              "      <td>0.175796</td>\n",
              "      <td>0.226075</td>\n",
              "      <td>0.294118</td>\n",
              "    </tr>\n",
              "    <tr>\n",
              "      <th>52</th>\n",
              "      <td>59 days</td>\n",
              "      <td>31559.600225</td>\n",
              "      <td>177.650219</td>\n",
              "      <td>146.655685</td>\n",
              "      <td>0.162627</td>\n",
              "      <td>0.194819</td>\n",
              "      <td>0.323529</td>\n",
              "    </tr>\n",
              "    <tr>\n",
              "      <th>53</th>\n",
              "      <td>60 days</td>\n",
              "      <td>32044.881243</td>\n",
              "      <td>179.010841</td>\n",
              "      <td>152.883159</td>\n",
              "      <td>0.169915</td>\n",
              "      <td>0.205317</td>\n",
              "      <td>0.294118</td>\n",
              "    </tr>\n",
              "    <tr>\n",
              "      <th>54</th>\n",
              "      <td>61 days</td>\n",
              "      <td>35264.239073</td>\n",
              "      <td>187.787750</td>\n",
              "      <td>164.853639</td>\n",
              "      <td>0.179844</td>\n",
              "      <td>0.219633</td>\n",
              "      <td>0.274510</td>\n",
              "    </tr>\n",
              "    <tr>\n",
              "      <th>55</th>\n",
              "      <td>62 days</td>\n",
              "      <td>39352.356244</td>\n",
              "      <td>198.374283</td>\n",
              "      <td>180.458488</td>\n",
              "      <td>0.193869</td>\n",
              "      <td>0.226075</td>\n",
              "      <td>0.235294</td>\n",
              "    </tr>\n",
              "    <tr>\n",
              "      <th>56</th>\n",
              "      <td>63 days</td>\n",
              "      <td>33192.778789</td>\n",
              "      <td>182.188855</td>\n",
              "      <td>164.462865</td>\n",
              "      <td>0.176309</td>\n",
              "      <td>0.216961</td>\n",
              "      <td>0.294118</td>\n",
              "    </tr>\n",
              "    <tr>\n",
              "      <th>57</th>\n",
              "      <td>64 days</td>\n",
              "      <td>31674.835228</td>\n",
              "      <td>177.974254</td>\n",
              "      <td>160.812167</td>\n",
              "      <td>0.171311</td>\n",
              "      <td>0.216961</td>\n",
              "      <td>0.294118</td>\n",
              "    </tr>\n",
              "    <tr>\n",
              "      <th>58</th>\n",
              "      <td>65 days</td>\n",
              "      <td>31219.596540</td>\n",
              "      <td>176.690680</td>\n",
              "      <td>161.614598</td>\n",
              "      <td>0.169687</td>\n",
              "      <td>0.205317</td>\n",
              "      <td>0.235294</td>\n",
              "    </tr>\n",
              "  </tbody>\n",
              "</table>\n",
              "</div>"
            ],
            "text/plain": [
              "   horizon           mse        rmse         mae      mape     mdape  coverage\n",
              "0   7 days   6530.091263   80.808980   67.193647  0.082251  0.091676  0.323529\n",
              "1   8 days   7493.913424   86.567392   73.360009  0.090735  0.108975  0.274510\n",
              "2   9 days   8947.517751   94.591320   83.086001  0.102434  0.119425  0.196078\n",
              "3  10 days   9665.873608   98.315175   89.970474  0.113260  0.122044  0.117647\n",
              "4  11 days   9426.245178   97.088852   89.095206  0.113726  0.122044  0.117647\n",
              "5  12 days   9088.249050   95.332309   88.558291  0.115027  0.122044  0.137255\n",
              "6  13 days   9615.622903   98.059283   92.988259  0.120826  0.122044  0.137255\n",
              "7  14 days  12553.114959  112.040684  103.410167  0.133379  0.134430  0.117647\n",
              "8  15 days  13595.471719  116.599621  106.920881  0.136916  0.134430  0.117647\n",
              "9  16 days  18286.577334  135.227872  117.915571  0.146685  0.134430  0.176471\n",
              "10 17 days  22396.536103  149.654723  127.378455  0.157039  0.136960  0.235294\n",
              "11 18 days  22287.677356  149.290580  126.124795  0.157357  0.156409  0.274510\n",
              "12 19 days  23837.410653  154.393687  129.461831  0.162485  0.165688  0.274510\n",
              "13 20 days  27181.492614  164.868107  136.772667  0.171628  0.178949  0.294118\n",
              "14 21 days  28254.797640  168.091635  140.579792  0.179480  0.193007  0.274510\n",
              "15 22 days  31021.435309  176.129030  149.808209  0.191058  0.208711  0.235294\n",
              "16 23 days  33517.360187  183.077470  156.753847  0.195765  0.236032  0.235294\n",
              "17 24 days  37361.790305  193.291982  166.989325  0.206256  0.254861  0.215686\n",
              "18 25 days  35986.401639  189.700821  161.242719  0.200217  0.254861  0.235294\n",
              "19 26 days  34671.149812  186.201906  155.293174  0.191687  0.256722  0.250000\n",
              "20 27 days  35139.572762  187.455522  148.516643  0.178714  0.197957  0.352941\n",
              "21 28 days  33417.111543  182.803478  141.139537  0.170107  0.164005  0.392157\n",
              "22 29 days  37520.079862  193.701006  153.435878  0.184399  0.197957  0.352941\n",
              "23 30 days  41108.940333  202.753398  162.068378  0.191218  0.287065  0.352941\n",
              "24 31 days  44378.488464  210.662024  171.808292  0.199528  0.289529  0.352941\n",
              "25 32 days  41847.185523  204.565846  163.898957  0.189576  0.287065  0.372549\n",
              "26 33 days  40531.521256  201.324418  160.039942  0.184626  0.287065  0.411765\n",
              "27 34 days  37938.464666  194.777988  157.781277  0.181859  0.272279  0.382353\n",
              "28 35 days  36793.009536  191.815040  158.595605  0.182592  0.264591  0.333333\n",
              "29 36 days  41550.705459  203.839902  171.098643  0.196914  0.264591  0.294118\n",
              "30 37 days  39504.324487  198.756948  164.247736  0.189127  0.264591  0.333333\n",
              "31 38 days  35614.100044  188.716984  157.845149  0.181979  0.143155  0.264706\n",
              "32 39 days  33991.375288  184.367501  154.534577  0.178323  0.136449  0.323529\n",
              "33 40 days  41006.323906  202.500182  171.902530  0.198810  0.143155  0.215686\n",
              "34 41 days  46708.299986  216.121031  181.692592  0.210589  0.130112  0.176471\n",
              "35 42 days  44383.118362  210.673013  175.088299  0.202976  0.121889  0.156863\n",
              "36 43 days  49930.252515  223.450783  186.877559  0.216978  0.130112  0.117647\n",
              "37 44 days  58620.382370  242.116464  205.164193  0.238687  0.242292  0.117647\n",
              "38 45 days  59452.595083  243.829028  211.885656  0.246201  0.250923  0.000000\n",
              "39 46 days  54424.310008  233.290184  200.096638  0.232358  0.242292  0.058824\n",
              "40 47 days  55018.606293  234.560453  198.901414  0.230056  0.242292  0.117647\n",
              "41 48 days  51612.951084  227.184839  191.607465  0.218760  0.165120  0.176471\n",
              "42 49 days  44653.560087  211.313890  176.393931  0.197977  0.160918  0.235294\n",
              "43 50 days  46784.985011  216.298370  183.043074  0.202574  0.165120  0.235294\n",
              "44 51 days  53342.336729  230.959600  198.867436  0.218031  0.253039  0.235294\n",
              "45 52 days  54474.773592  233.398315  199.077056  0.218225  0.260931  0.264706\n",
              "46 53 days  54038.340655  232.461482  194.873721  0.213359  0.260931  0.294118\n",
              "47 54 days  49019.440676  221.403344  182.481419  0.199553  0.253039  0.313725\n",
              "48 55 days  44437.495898  210.802030  172.008499  0.189195  0.249423  0.323529\n",
              "49 56 days  41339.146816  203.320306  162.560853  0.179767  0.237460  0.352941\n",
              "50 57 days  43977.093322  209.707161  170.817542  0.187443  0.240912  0.313725\n",
              "51 58 days  37863.882489  194.586440  160.768861  0.175796  0.226075  0.294118\n",
              "52 59 days  31559.600225  177.650219  146.655685  0.162627  0.194819  0.323529\n",
              "53 60 days  32044.881243  179.010841  152.883159  0.169915  0.205317  0.294118\n",
              "54 61 days  35264.239073  187.787750  164.853639  0.179844  0.219633  0.274510\n",
              "55 62 days  39352.356244  198.374283  180.458488  0.193869  0.226075  0.235294\n",
              "56 63 days  33192.778789  182.188855  164.462865  0.176309  0.216961  0.294118\n",
              "57 64 days  31674.835228  177.974254  160.812167  0.171311  0.216961  0.294118\n",
              "58 65 days  31219.596540  176.690680  161.614598  0.169687  0.205317  0.235294"
            ]
          },
          "metadata": {
            "tags": []
          },
          "execution_count": 28
        }
      ]
    }
  ]
}